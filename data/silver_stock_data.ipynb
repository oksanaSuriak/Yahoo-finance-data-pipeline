{
 "cells": [
  {
   "cell_type": "code",
   "execution_count": 0,
   "metadata": {
    "application/vnd.databricks.v1+cell": {
     "cellMetadata": {},
     "inputWidgets": {},
     "nuid": "7f4ae901-922e-4707-b937-7fdd91810036",
     "showTitle": false,
     "tableResultSettingsMap": {},
     "title": ""
    }
   },
   "outputs": [],
   "source": [
    "from pyspark.sql.functions import col ,year, month, dayofmonth, weekofyear,to_date ,sum as spark_sum, isnan\n",
    "from datetime import datetime\n",
    "from pyspark.sql.types import StructType, StructField, StringType, IntegerType, TimestampType\n"
   ]
  },
  {
   "cell_type": "code",
   "execution_count": 0,
   "metadata": {
    "application/vnd.databricks.v1+cell": {
     "cellMetadata": {
      "byteLimit": 2048000,
      "rowLimit": 10000
     },
     "inputWidgets": {},
     "nuid": "10904551-0353-4ebc-98d8-e8e0e42d2b1d",
     "showTitle": false,
     "tableResultSettingsMap": {},
     "title": ""
    }
   },
   "outputs": [],
   "source": [
    "\n",
    "# Читаємо останню дату в Silver рівні\n",
    "latest_date_row = spark.read.format(\"delta\").load(\"/FileStore/delta/silver_stock\") \\\n",
    "    .selectExpr(\"max(Date) as latest_date\").collect()\n",
    "\n",
    "# Перевіряємо, чи результат порожній\n",
    "latest_date = latest_date_row[0][\"latest_date\"] if latest_date_row and latest_date_row[0][\"latest_date\"] else None\n",
    "\n",
    "# Встановлюємо порогову дату для історичних даних\n",
    "historical_threshold = datetime.strptime(\"2025-06-10\", \"%Y-%m-%d\").date()\n",
    "\n",
    "# Логіка завантаження Bronze даних\n",
    "if latest_date is None or latest_date < historical_threshold:\n",
    "    # Завантажуємо ВСІ історичні дані\n",
    "    bronze_df = spark.read.format(\"delta\").load(\"/FileStore/delta/bronze_stock\")\n",
    "else:\n",
    "    # Завантажуємо ТІЛЬКИ нові записи\n",
    "    bronze_df = spark.read.format(\"delta\").load(\"/FileStore/delta/bronze_stock\") \\\n",
    "        .filter(col(\"Date\") > latest_date)"
   ]
  },
  {
   "cell_type": "code",
   "execution_count": 0,
   "metadata": {
    "application/vnd.databricks.v1+cell": {
     "cellMetadata": {
      "byteLimit": 2048000,
      "rowLimit": 10000
     },
     "inputWidgets": {},
     "nuid": "cec954a7-b2ba-4976-8a5f-8e2e98d44f67",
     "showTitle": false,
     "tableResultSettingsMap": {},
     "title": ""
    }
   },
   "outputs": [],
   "source": [
    "#Перетворення типів стовпців та видалення дублікатів\n",
    "\n",
    "silver_df = (\n",
    "    bronze_df\n",
    "    .withColumn(\"Date\", to_date(col(\"Date\"), \"yyyy-MM-dd\"))\\\n",
    "    .withColumn(\"Company\", col(\"Company\").cast(\"string\"))\\\n",
    "    .withColumn(\"Open\", col(\"Open\").cast(\"double\"))\\\n",
    "    .withColumn(\"High\", col(\"High\").cast(\"double\"))\\\n",
    "    .withColumn(\"Low\", col(\"Low\").cast(\"double\"))\\\n",
    "    .withColumn(\"Close\", col(\"Close\").cast(\"double\"))\\\n",
    "    .withColumn(\"Volume\", col(\"Volume\").cast(\"long\"))\\\n",
    "    .dropDuplicates([\"Date\", \"Company\"])) #Видалення дублікатів\n",
    "    \n",
    "    \n",
    "    \n",
    "    \n",
    "\n"
   ]
  },
  {
   "cell_type": "code",
   "execution_count": 0,
   "metadata": {
    "application/vnd.databricks.v1+cell": {
     "cellMetadata": {
      "byteLimit": 2048000,
      "rowLimit": 10000
     },
     "inputWidgets": {},
     "nuid": "4e16ffc3-7ee2-4408-ada6-ec728d1fef9e",
     "showTitle": false,
     "tableResultSettingsMap": {},
     "title": ""
    }
   },
   "outputs": [],
   "source": [
    "#Заміна NaN на 0\n",
    "cols_to_fill = [\"Open\", \"Close\", \"Volume\"]\n",
    "silver_df = silver_df.fillna(0, subset=cols_to_fill)"
   ]
  },
  {
   "cell_type": "code",
   "execution_count": 0,
   "metadata": {
    "application/vnd.databricks.v1+cell": {
     "cellMetadata": {
      "byteLimit": 2048000,
      "rowLimit": 10000
     },
     "inputWidgets": {},
     "nuid": "19bf76bf-d863-45c4-bbe4-2c791403099d",
     "showTitle": false,
     "tableResultSettingsMap": {},
     "title": ""
    }
   },
   "outputs": [],
   "source": [
    "#Додавання додаткових стовпців з датою\n",
    "silver_df = (silver_df\n",
    "    .withColumn(\"Year\", year(col(\"Date\")))\\\n",
    "    .withColumn(\"Month\", month(col(\"Date\")))\\\n",
    "    .withColumn(\"Day\", dayofmonth(col(\"Date\")))\\\n",
    "    .withColumn(\"Week\", weekofyear(col(\"Date\"))))"
   ]
  },
  {
   "cell_type": "code",
   "execution_count": 0,
   "metadata": {
    "application/vnd.databricks.v1+cell": {
     "cellMetadata": {
      "byteLimit": 2048000,
      "rowLimit": 10000
     },
     "inputWidgets": {},
     "nuid": "793c66ab-4527-405f-8dca-a34775bc3643",
     "showTitle": false,
     "tableResultSettingsMap": {},
     "title": ""
    }
   },
   "outputs": [],
   "source": [
    "#Запис даних у форматі delta у таблицю \"silver_stock\"\n",
    "silver_df.write.format(\"delta\") \\\n",
    "    .mode(\"append\") \\\n",
    "    .option(\"mergeSchema\", \"true\") \\\n",
    "    .partitionBy(\"Year\", \"Month\") \\\n",
    "    .save(\"/FileStore/delta/silver_stock\")"
   ]
  },
  {
   "cell_type": "code",
   "execution_count": 0,
   "metadata": {
    "application/vnd.databricks.v1+cell": {
     "cellMetadata": {
      "byteLimit": 2048000,
      "rowLimit": 10000
     },
     "inputWidgets": {},
     "nuid": "bb5aa0ad-81c6-4d01-876e-2e4f5fe37c70",
     "showTitle": false,
     "tableResultSettingsMap": {},
     "title": ""
    }
   },
   "outputs": [],
   "source": [
    "# Підрахунок кількості записів до видалення дублікатів\n",
    "record_before = bronze_df.count()\n",
    "#  Підрахунок кількості записів після видалення дублікатів\n",
    "record_after = silver_df.count()\n",
    "duplicates_removed = record_before - record_after\n"
   ]
  },
  {
   "cell_type": "code",
   "execution_count": 0,
   "metadata": {
    "application/vnd.databricks.v1+cell": {
     "cellMetadata": {
      "byteLimit": 2048000,
      "rowLimit": 10000
     },
     "inputWidgets": {},
     "nuid": "78705578-d4eb-44af-8e2d-14d43743a16a",
     "showTitle": false,
     "tableResultSettingsMap": {},
     "title": ""
    }
   },
   "outputs": [],
   "source": [
    "#Підрахунок пропущених значень Null та NaN\n",
    "\n",
    "nan_counts_df = bronze_df.select([\n",
    "    spark_sum((col(c).isNull() | isnan(col(c))).cast(\"int\")).alias(c) for c in bronze_df.columns\n",
    "])\n",
    "\n",
    "null_total = nan_counts_df.selectExpr(\n",
    "    \"stack(\" + str(len(nan_counts_df.columns)) + \",\" +\n",
    "    \",\".join([f\"'{c}', `{c}`\" for c in nan_counts_df.columns]) +\n",
    "    \") as (column_name, null_count)\"\n",
    ").agg({\"null_count\": \"sum\"}).collect()[0][0]\n"
   ]
  },
  {
   "cell_type": "code",
   "execution_count": 0,
   "metadata": {
    "application/vnd.databricks.v1+cell": {
     "cellMetadata": {
      "byteLimit": 2048000,
      "rowLimit": 10000
     },
     "inputWidgets": {},
     "nuid": "0981f757-db65-48c2-a7ed-c65f1cb32f0a",
     "showTitle": false,
     "tableResultSettingsMap": {},
     "title": ""
    }
   },
   "outputs": [],
   "source": [
    "#Додає дані до лог-таблиці\n",
    "log_data = [(\n",
    "    datetime.now().strftime('%Y-%m-%d %H:%M:%S'),\n",
    "    \"silver_stock_data\",\n",
    "    \"/FileStore/delta/bronze_stock\",\n",
    "    record_after,\n",
    "    null_total,\n",
    "    duplicates_removed,\n",
    "    None,\n",
    "    None,\n",
    "    None\n",
    ")]\n",
    "\n",
    "log_silver_df = spark.createDataFrame(log_data, schema=log_schema)\n",
    "#Запис даних до лог-таблиці \"etl_log\" у форматі delta\n",
    "log_silver_df.write.format(\"delta\").mode(\"append\").save(\"/FileStore/delta/etl_log\")"
   ]
  }
 ],
 "metadata": {
  "application/vnd.databricks.v1+notebook": {
   "computePreferences": null,
   "dashboards": [],
   "environmentMetadata": {
    "base_environment": "",
    "environment_version": "1"
   },
   "inputWidgetPreferences": null,
   "language": "python",
   "notebookMetadata": {
    "pythonIndentUnit": 4
   },
   "notebookName": "silver_stock_data",
   "widgets": {}
  }
 },
 "nbformat": 4,
 "nbformat_minor": 0
}