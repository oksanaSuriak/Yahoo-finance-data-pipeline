{
 "cells": [
  {
   "cell_type": "code",
   "execution_count": 0,
   "metadata": {
    "application/vnd.databricks.v1+cell": {
     "cellMetadata": {},
     "inputWidgets": {},
     "nuid": "b89c6508-15cb-498b-b9da-bd1b08492646",
     "showTitle": false,
     "tableResultSettingsMap": {},
     "title": ""
    }
   },
   "outputs": [],
   "source": [
    "from pyspark.sql.functions import avg, stddev, weekofyear ,col\n",
    "from pyspark.sql.types import StructType, StructField, StringType, IntegerType, TimestampType\n",
    "from datetime import datetime"
   ]
  },
  {
   "cell_type": "code",
   "execution_count": 0,
   "metadata": {
    "application/vnd.databricks.v1+cell": {
     "cellMetadata": {
      "byteLimit": 2048000,
      "rowLimit": 10000
     },
     "inputWidgets": {},
     "nuid": "af8e0726-ecc5-4a15-bcd9-5162a7ea1ec6",
     "showTitle": false,
     "tableResultSettingsMap": {},
     "title": ""
    }
   },
   "outputs": [],
   "source": [
    "#Зчитування silver data\n",
    "gold_df = spark.read.format(\"delta\").load(\"/FileStore/delta/silver_stock\")"
   ]
  },
  {
   "cell_type": "code",
   "execution_count": 0,
   "metadata": {
    "application/vnd.databricks.v1+cell": {
     "cellMetadata": {
      "byteLimit": 2048000,
      "rowLimit": 10000
     },
     "inputWidgets": {},
     "nuid": "19481d47-38fe-4fab-a302-1dbcd8244ad9",
     "showTitle": false,
     "tableResultSettingsMap": {},
     "title": ""
    }
   },
   "outputs": [],
   "source": [
    "\n",
    "# Створення таблиці з Добовими метриками\n",
    "gold_daily = gold_df.groupBy(\"Year\", \"Month\", \"Day\", \"Company\").agg(\n",
    "    avg(\"Close\").alias(\"avg_daily_close\"),\n",
    "    stddev(\"Close\").alias(\"volatility_daily\")\n",
    ")\n",
    "\n",
    "#  Створення таблиці з Тижневими метриками\n",
    "gold_weekly = gold_df.withColumn(\"Week\", weekofyear(col(\"Date\"))) \\\n",
    "    .groupBy(\"Year\", \"Week\", \"Company\").agg(\n",
    "        avg(\"Close\").alias(\"avg_weekly_close\"),\n",
    "        stddev(\"Close\").alias(\"volatility_weekly\")\n",
    "    )\n",
    "\n",
    "# Створення таблиці з Місячними метриками\n",
    "gold_monthly = gold_df.groupBy(\"Year\", \"Month\", \"Company\").agg(\n",
    "    avg(\"Close\").alias(\"avg_monthly_close\"),\n",
    "    stddev(\"Close\").alias(\"volatility_monthly\")\n",
    ")"
   ]
  },
  {
   "cell_type": "code",
   "execution_count": 0,
   "metadata": {
    "application/vnd.databricks.v1+cell": {
     "cellMetadata": {
      "byteLimit": 2048000,
      "rowLimit": 10000
     },
     "inputWidgets": {},
     "nuid": "6357f311-2df1-4743-94c4-f6a6a47ae3bf",
     "showTitle": false,
     "tableResultSettingsMap": {},
     "title": ""
    }
   },
   "outputs": [],
   "source": [
    "# Запис агрегованих таблиць у форматі delta\n",
    "gold_daily.write.format(\"delta\").mode(\"overwrite\").option(\"mergeSchema\", \"true\").save(\"/FileStore/delta/gold_daily_stock\")\n",
    "gold_weekly.write.format(\"delta\").mode(\"overwrite\").option(\"mergeSchema\", \"true\").save(\"/FileStore/delta/gold_weekly_stock\")\n",
    "gold_monthly.write.format(\"delta\").mode(\"overwrite\").option(\"mergeSchema\", \"true\").save(\"/FileStore/delta/gold_monthly_stock\")"
   ]
  },
  {
   "cell_type": "code",
   "execution_count": 0,
   "metadata": {
    "application/vnd.databricks.v1+cell": {
     "cellMetadata": {
      "byteLimit": 2048000,
      "rowLimit": 10000
     },
     "inputWidgets": {},
     "nuid": "118cebc0-85a6-4b1a-b23d-53957e7a92fa",
     "showTitle": false,
     "tableResultSettingsMap": {},
     "title": ""
    }
   },
   "outputs": [],
   "source": [
    "# Додавання даних до лог-таблиці\n",
    "log_data = [(\n",
    "    datetime.now().strftime('%Y-%m-%d %H:%M:%S'),\n",
    "    \"gold+_stock_data\",\n",
    "    \"/FileStore/delta/silver_stock\",\n",
    "    None,\n",
    "    None,\n",
    "    None,\n",
    "    gold_daily.count(),\n",
    "    gold_weekly.count(),\n",
    "    gold_monthly.count()\n",
    ")]\n",
    "\n",
    "log_gold_df = spark.createDataFrame(log_data, schema=log_schema)\n",
    "#Запис даних до лог-таблиці \"etl_log\" у форматі delta\n",
    "log_gold_df.write.format(\"delta\").mode(\"append\").save(\"/FileStore/delta/etl_log\")\n"
   ]
  }
 ],
 "metadata": {
  "application/vnd.databricks.v1+notebook": {
   "computePreferences": null,
   "dashboards": [],
   "environmentMetadata": {
    "base_environment": "",
    "environment_version": "1"
   },
   "inputWidgetPreferences": null,
   "language": "python",
   "notebookMetadata": {
    "pythonIndentUnit": 4
   },
   "notebookName": "gold_stock_data",
   "widgets": {}
  }
 },
 "nbformat": 4,
 "nbformat_minor": 0
}