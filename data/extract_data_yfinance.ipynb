{
 "cells": [
  {
   "cell_type": "code",
   "execution_count": 0,
   "metadata": {
    "application/vnd.databricks.v1+cell": {
     "cellMetadata": {},
     "inputWidgets": {},
     "nuid": "d9093ce8-d9f5-4b6d-a945-cee9cedf7ba3",
     "showTitle": false,
     "tableResultSettingsMap": {},
     "title": ""
    }
   },
   "outputs": [],
   "source": [
    "import yfinance as yf\n",
    "import pandas as pd\n",
    "from datetime import datetime, timedelta\n",
    "\n",
    "#Список компаній \n",
    "tickers = [\"META\", \"AAPL\", \"GOOG\", \"TSLA\", \"AMZN\", \"MSFT\", \"NVDA\"]\n",
    "\n",
    "#Визначення початкової та кінцевої дати \n",
    "start_date = \"2020-01-01\"\n",
    "fixed_end_date = \"2025-06-10\"\n",
    "today_date = datetime.today().strftime('%Y-%m-%d')\n",
    "yesterday_date = (datetime.today() - timedelta(days=1)).strftime('%Y-%m-%d')\n",
    "\n",
    "#Інкрементальне формування файлу\n",
    "if today_date > fixed_end_date:\n",
    "    filename = f\"stock_prices_{yesterday_date}.csv\"\n",
    "    header_required = False #Відсутній заголовок для щоденних файлів\n",
    "    data = yf.download(tickers, start=yesterday_date, end=today_date, group_by=\"ticker\")\n",
    "#Формування історичного файлу з '2020-01-01'до'2025-06-10'\n",
    "else:\n",
    "    filename = f\"stock_prices_{fixed_end_date}.csv\"\n",
    "    header_required = True #Є заголовок для історичного файлу\n",
    "    data = yf.download(tickers, start=start_date, end=fixed_end_date, group_by=\"ticker\")\n",
    "#Додаванання повної назви компанії\n",
    "company_names = {ticker: yf.Ticker(ticker).info.get('longName', ticker) for ticker in tickers}\n",
    "\n",
    "formatted_data = {}\n",
    "for ticker in tickers:\n",
    "    df = data[ticker].copy()\n",
    "    df[\"Company\"] = company_names[ticker]  \n",
    "    formatted_data[ticker] = df\n",
    "#Об'єднання даних з назвою\n",
    "final_df = pd.concat(formatted_data.values())\n",
    "\n",
    "final_df.reset_index(inplace=True)  \n",
    "final_df.rename(columns={\"index\": \"Date\"}, inplace=True) \n",
    "#Вибір даних для збереження\n",
    "final_df = final_df[[\"Date\",\"Company\",\"Open\",\"High\" ,\"Low\", \"Close\", \"Volume\"]]\n",
    "#Збереження csv файлу, header залежить від даних історичні або щоденні \n",
    "final_df.to_csv(filename, index=False, header=header_required)\n"
   ]
  }
 ],
 "metadata": {
  "application/vnd.databricks.v1+notebook": {
   "computePreferences": null,
   "dashboards": [],
   "environmentMetadata": {
    "base_environment": "",
    "environment_version": "1"
   },
   "inputWidgetPreferences": null,
   "language": "python",
   "notebookMetadata": {
    "pythonIndentUnit": 4
   },
   "notebookName": "extract_data_yfinance",
   "widgets": {}
  }
 },
 "nbformat": 4,
 "nbformat_minor": 0
}